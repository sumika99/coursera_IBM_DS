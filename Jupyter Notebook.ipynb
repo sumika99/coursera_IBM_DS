{
 "cells": [
  {
   "cell_type": "markdown",
   "metadata": {},
   "source": [
    "\n",
    "\n",
    "<center>\n",
    "    <b>\n",
    "<span style=\"font-size: 32pt; line-height:1.2\"> \n",
    "SQL for Data Analysis\n",
    "</span>\n",
    "        <b>\n",
    "<br><br>\n",
    "<span style=\"font-size: 24pt; line-height:1.2\"> \n",
    "Sumika Yamazaki\n",
    "</span>\n",
    "</center>\n"
   ]
  },
  {
   "cell_type": "markdown",
   "metadata": {},
   "source": [
    "# Final Assignment"
   ]
  },
  {
   "cell_type": "markdown",
   "metadata": {},
   "source": [
    "This final assignment is for \"Tools for Data Science\" section."
   ]
  },
  {
   "cell_type": "markdown",
   "metadata": {},
   "source": [
    "Data science languages include Python, R, SQL, Julia, Javascript, and Scala."
   ]
  },
  {
   "cell_type": "markdown",
   "metadata": {},
   "source": [
    "Data Science Libraries include:\n",
    "- Python: NumPy, Pandas, SciKit-Learn, etc.\n",
    "- R: ggplot2, lubridate, dplyr, etc."
   ]
  },
  {
   "cell_type": "markdown",
   "metadata": {},
   "source": [
    "| Data Science Tools | \n",
    "| -------------| \n",
    "| Python |\n",
    "| R | \n",
    "| SQL |\n",
    "| Java |\n",
    "| Tableau |\n",
    "| Power BI |"
   ]
  },
  {
   "cell_type": "markdown",
   "metadata": {},
   "source": [
    "Arithmetic Expression Examples:\n",
    "- 1: a number is an arithmetic expression\n",
    "- (1 + 2): the  sum of numbers is an arithmetic expression\n",
    "- (2 - 1): the difference  of two  numbers is an arithmetic expression\n",
    "- (2 * 5): the product of two numbers is an arithmetic expression"
   ]
  },
  {
   "cell_type": "code",
   "execution_count": 6,
   "metadata": {},
   "outputs": [
    {
     "name": "stdout",
     "output_type": "stream",
     "text": [
      "10 7\n"
     ]
    }
   ],
   "source": [
    "print(2*5, 2+5)"
   ]
  },
  {
   "cell_type": "code",
   "execution_count": 8,
   "metadata": {},
   "outputs": [
    {
     "name": "stdout",
     "output_type": "stream",
     "text": [
      "0.5\n"
     ]
    }
   ],
   "source": [
    "minute = 30\n",
    "hour = minute/60\n",
    "print(hour)"
   ]
  },
  {
   "cell_type": "markdown",
   "metadata": {},
   "source": [
    "The objective of data science is to collect, process, explore, and visualize data, analyze it and make decisions based on the data insights."
   ]
  },
  {
   "cell_type": "markdown",
   "metadata": {},
   "source": [
    "Author name: Sumika Yamazaki"
   ]
  },
  {
   "cell_type": "markdown",
   "metadata": {},
   "source": [
    "### Kernels, Headings, Bold, Italic, Hyperlinks, Images, Tables"
   ]
  },
  {
   "cell_type": "code",
   "execution_count": null,
   "metadata": {},
   "outputs": [],
   "source": [
    "# H1 Heading...###### H6 Heading\n",
    "\n",
    "**Bold Text using asterisks.**  \n",
    "__Bold Text using underscores.__\n",
    "\n",
    "[Name of the Link](Link url)\n",
    "# [Skills Network](https://skills.network/) \n",
    "\n",
    "Name of the image: ![image.png](attachment:image.png)\n",
    "# LOGO: ![This is the skills network logo](https://cf-courses-data.s3.us.cloud-object-storage.appdomain.cloud/assets/logos/SN_web_lightmode.png)\n",
    "\n",
    "| Country Name | Capital |\n",
    "| -------------| ------ |\n",
    "| United States | Washington DC |\n",
    "| Australia | Canberra |\n",
    "| India | New Delhi |\n",
    "\n",
    "- First item using dashes\n",
    "* First item using asterisks\n",
    "+ First item using plus\n"
   ]
  }
 ],
 "metadata": {
  "kernelspec": {
   "display_name": "Python 3 (ipykernel)",
   "language": "python",
   "name": "python3"
  },
  "language_info": {
   "codemirror_mode": {
    "name": "ipython",
    "version": 3
   },
   "file_extension": ".py",
   "mimetype": "text/x-python",
   "name": "python",
   "nbconvert_exporter": "python",
   "pygments_lexer": "ipython3",
   "version": "3.9.7"
  }
 },
 "nbformat": 4,
 "nbformat_minor": 2
}
